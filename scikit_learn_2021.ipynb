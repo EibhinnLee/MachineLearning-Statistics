{
 "cells": [
  {
   "cell_type": "markdown",
   "id": "917efb99-f402-417f-a014-e4aad9ca439d",
   "metadata": {},
   "source": [
    "Scikit Learn Jupyter Notebook"
   ]
  },
  {
   "cell_type": "markdown",
   "id": "1c054943-b136-4b1e-8b95-bc7ef85d3709",
   "metadata": {},
   "source": [
    "overview of the scikit learn python library"
   ]
  },
  {
   "cell_type": "markdown",
   "id": "d97b81c4-4192-48dc-9ab5-f51731b6ffd7",
   "metadata": {},
   "source": [
    "## Definition of Scikit Learn\n",
    "\n",
    "It is a free machine learning library for the python programming language. [https://en.wikipedia.org/wiki/Scikit-learn]\n",
    "\n",
    "## How it started\n",
    "\n",
    "Originally began as a project by French data scientist David Cournapeau in the middle of 2007, its first public release was in February 2010 after developers from the French Institute for Research in Computer Science and Automation, took over the project. \n",
    "\n",
    "## Contents\n",
    "\n",
    "The library contains a number of algorithms such as classification, regression and clustering including k-means, gradient boosting, support vector machines. The library is designed to work in line with python packages NumPy and SciPy. \n",
    "\n",
    "\n",
    "## other sources\n",
    "[https://www.analyticsvidhya.com/blog/2015/01/scikit-learn-python-machine-learning-tool/]\n",
    "\n",
    "Components of scikit-learn:\n",
    "Scikit-learn comes loaded with a lot of features. Here are a few of them to help you understand the spread:\n",
    "\n",
    "Supervised learning algorithms: Think of any supervised machine learning algorithm you might have heard about and there is a very high chance that it is part of scikit-learn. Starting from Generalized linear models (e.g Linear Regression), Support Vector Machines (SVM), Decision Trees to Bayesian methods – all of them are part of scikit-learn toolbox. The spread of machine learning algorithms is one of the big reasons for the high usage of scikit-learn. I started using scikit to solve supervised learning problems and would recommend that to people new to scikit / machine learning as well.\n",
    "Cross-validation: There are various methods to check the accuracy of supervised models on unseen data using sklearn.\n",
    "Unsupervised learning algorithms: Again there is a large spread of machine learning algorithms in the offering – starting from clustering, factor analysis, principal component analysis to unsupervised neural networks.\n",
    "Various toy datasets: This came in handy while learning scikit-learn. I had learned SAS using various academic datasets (e.g. IRIS dataset, Boston House prices dataset). Having them handy while learning a new library helped a lot.\n",
    "Feature extraction: Scikit-learn for extracting features from images and text (e.g. Bag of words)\n",
    "\n"
   ]
  },
  {
   "cell_type": "code",
   "execution_count": null,
   "id": "9bee020f-59a8-42fb-9f89-5a75367dcc9f",
   "metadata": {},
   "outputs": [],
   "source": []
  },
  {
   "cell_type": "code",
   "execution_count": null,
   "id": "d1f7b2b5-b710-4c58-8f39-decfe0273218",
   "metadata": {},
   "outputs": [],
   "source": []
  },
  {
   "cell_type": "code",
   "execution_count": null,
   "id": "1a720183-54f4-48d7-98a2-84ec23072215",
   "metadata": {},
   "outputs": [],
   "source": []
  },
  {
   "cell_type": "code",
   "execution_count": null,
   "id": "8467ce5c-5896-40c6-bf19-a26a6c08f9dd",
   "metadata": {},
   "outputs": [],
   "source": []
  },
  {
   "cell_type": "code",
   "execution_count": null,
   "id": "b52ef903-2d82-4264-b53e-a7766a97cd6d",
   "metadata": {},
   "outputs": [],
   "source": []
  },
  {
   "cell_type": "code",
   "execution_count": null,
   "id": "ae91a8cf-da9a-4fba-a0ac-d3554f39966e",
   "metadata": {},
   "outputs": [],
   "source": []
  },
  {
   "cell_type": "code",
   "execution_count": null,
   "id": "74e20e55-10c5-41dc-8fb2-f693863f9c7a",
   "metadata": {},
   "outputs": [],
   "source": []
  },
  {
   "cell_type": "markdown",
   "id": "0c84aec0-102e-4c12-b54b-3c6c047daaa8",
   "metadata": {},
   "source": [
    "Demo of 3 interesting algo's"
   ]
  },
  {
   "cell_type": "code",
   "execution_count": null,
   "id": "80ffdcfa-3be2-4bf5-a9db-27400b49c543",
   "metadata": {},
   "outputs": [],
   "source": []
  },
  {
   "cell_type": "code",
   "execution_count": null,
   "id": "dc7c6d8a-a382-4b3d-9a13-665df08744fc",
   "metadata": {},
   "outputs": [],
   "source": []
  },
  {
   "cell_type": "code",
   "execution_count": null,
   "id": "ead02ac6-4098-4827-a414-9154ae9c85e9",
   "metadata": {},
   "outputs": [],
   "source": []
  },
  {
   "cell_type": "markdown",
   "id": "605898a3-7624-4808-ae8e-792fac64d6d8",
   "metadata": {},
   "source": [
    "Reference"
   ]
  },
  {
   "cell_type": "code",
   "execution_count": null,
   "id": "f4d67044-ee7e-4a1c-bb23-2bd6f800d68f",
   "metadata": {},
   "outputs": [],
   "source": []
  },
  {
   "cell_type": "code",
   "execution_count": null,
   "id": "e2608930-1a2f-4f46-8a69-beb67f85635d",
   "metadata": {},
   "outputs": [],
   "source": []
  }
 ],
 "metadata": {
  "kernelspec": {
   "display_name": "Python 3",
   "language": "python",
   "name": "python3"
  },
  "language_info": {
   "codemirror_mode": {
    "name": "ipython",
    "version": 3
   },
   "file_extension": ".py",
   "mimetype": "text/x-python",
   "name": "python",
   "nbconvert_exporter": "python",
   "pygments_lexer": "ipython3",
   "version": "3.8.8"
  }
 },
 "nbformat": 4,
 "nbformat_minor": 5
}
